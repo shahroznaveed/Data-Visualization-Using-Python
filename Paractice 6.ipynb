{
 "cells": [
  {
   "cell_type": "markdown",
   "metadata": {},
   "source": [
    "# DV Lab 06 "
   ]
  },
  {
   "cell_type": "markdown",
   "metadata": {},
   "source": [
    "### Perform the following Tasks in Seaborn"
   ]
  },
  {
   "cell_type": "markdown",
   "metadata": {},
   "source": [
    "##### Import the required libraries and data from csv file \"sales_data\" and perform the following tasks on it."
   ]
  },
  {
   "cell_type": "code",
   "execution_count": null,
   "metadata": {},
   "outputs": [],
   "source": [
    "import seaborn as sns\n",
    "import pandas as pd\n",
    "\n",
    "# Read the CSV data\n",
    "data = pd.read_csv(\"sales_data.csv\")"
   ]
  },
  {
   "cell_type": "markdown",
   "metadata": {},
   "source": [
    "#### Plot the total sales per category across all orders."
   ]
  },
  {
   "cell_type": "code",
   "execution_count": null,
   "metadata": {},
   "outputs": [],
   "source": [
    "# Calculate total sales per category\n",
    "category_totals = data.groupby(\"category\")[\"price\"].sum()\n",
    "\n",
    "# Create the line chart\n",
    "sns.lineplot(x=category_totals.index, y=category_totals.values)\n",
    "sns.title(\"Total Sales per Category\")\n",
    "sns.xlabel(\"Category\")\n",
    "sns.ylabel(\"Total Sales\")\n",
    "plt.show()"
   ]
  },
  {
   "cell_type": "markdown",
   "metadata": {},
   "source": [
    "#### Visualize the relationship between product price and quantity sold. Add a regression line to show the general trend."
   ]
  },
  {
   "cell_type": "code",
   "execution_count": null,
   "metadata": {},
   "outputs": [],
   "source": [
    "sns.regplot(x=\"price\", y=\"quantity\", data=data)\n",
    "sns.title(\"Product Price vs. Quantity Sold (Regression Line)\")\n",
    "sns.xlabel(\"Product Price\")\n",
    "sns.ylabel(\"Quantity Sold\")\n",
    "plt.show()"
   ]
  },
  {
   "cell_type": "markdown",
   "metadata": {},
   "source": [
    "#### Explore the distribution of product price within each category using violin plots. Group the plots by customer country using a facet grid."
   ]
  },
  {
   "cell_type": "code",
   "execution_count": null,
   "metadata": {},
   "outputs": [],
   "source": [
    "sns.violinplot(x=\"category\", y=\"price\", hue=\"customer_country\", showmeans=True, data=data, split=True)\n",
    "sns.title(\"Distribution of Product Price by Category and Customer Country\")\n",
    "plt.xticks(rotation=45)  # Rotate x-axis labels for better readability\n",
    "plt.show()\n"
   ]
  },
  {
   "cell_type": "markdown",
   "metadata": {},
   "source": [
    "#### Create a heatmap visualizing the correlation matrix between product price, quantity, and a potential additional numerical variable (e.g., shipping cost, discount applied). Apply hierarchical clustering to order categories and countries based on their correlations."
   ]
  },
  {
   "cell_type": "code",
   "execution_count": null,
   "metadata": {},
   "outputs": [],
   "source": [
    "# Calculate correlation matrix\n",
    "correlation_matrix = data[[\"price\", \"quantity\", \"shipping_cost\"]].corr()\n",
    "\n",
    "# Create the heatmap with hierarchical clustering\n",
    "sns.heatmap(correlation_matrix, annot=True, cmap=\"coolwarm\", center=0)\n",
    "sns.title(\"Correlation Matrix (Hierarchical Clustering)\")\n",
    "plt.show()\n"
   ]
  },
  {
   "cell_type": "markdown",
   "metadata": {},
   "source": [
    "#### Explore the relationships between all numerical variables in your data (price, quantity, shipping cost, etc.) using a pairplot. This provides a quick overview of pairwise correlations and potential outliers."
   ]
  },
  {
   "cell_type": "code",
   "execution_count": null,
   "metadata": {},
   "outputs": [],
   "source": [
    "sns.pairplot(data[[\"price\", \"quantity\", \"shipping_cost\"]])  # Adjust variable names as needed\n",
    "plt.show()\n"
   ]
  },
  {
   "cell_type": "markdown",
   "metadata": {},
   "source": [
    "### Perform the Following Tasks in Plotly "
   ]
  },
  {
   "cell_type": "markdown",
   "metadata": {},
   "source": [
    "#### Plot the total sales per category using an interactive bar chart where users can hover over bars to see details (category and total sales)."
   ]
  },
  {
   "cell_type": "code",
   "execution_count": null,
   "metadata": {},
   "outputs": [],
   "source": [
    "import plotly.graph_objects as go\n",
    "\n",
    "# Calculate total sales per category\n",
    "category_totals = data.groupby(\"category\")[\"price\"].sum()\n",
    "\n",
    "# Create the bar chart with hovertext\n",
    "fig = go.Figure(\n",
    "    data=[go.Bar(x=category_totals.index, y=category_totals.values, text=category_totals.values)]\n",
    ")\n",
    "\n",
    "# Add hover information\n",
    "fig.update_traces(hovertemplate=\"Category: %{x}<br>Total Sales: %{y:.2f}\")\n",
    "\n",
    "# Customize layout\n",
    "fig.update_layout(\n",
    "    title=\"Total Sales per Category\",\n",
    "    xaxis_title=\"Category\",\n",
    "    yaxis_title=\"Total Sales\",\n",
    ")\n",
    "\n",
    "fig.show()\n"
   ]
  },
  {
   "cell_type": "markdown",
   "metadata": {},
   "source": [
    "#### Create a scatter plot visualizing the relationship between product price and quantity sold, color-coded by customer country."
   ]
  },
  {
   "cell_type": "code",
   "execution_count": null,
   "metadata": {},
   "outputs": [],
   "source": [
    "fig = go.Figure(\n",
    "    data=[\n",
    "        go.Scatter(\n",
    "            x=data[\"price\"],\n",
    "            y=data[\"quantity\"],\n",
    "            mode=\"markers\",\n",
    "            marker=dict(color=data[\"customer_country\"], size=10),\n",
    "        )\n",
    "    ]\n",
    ")\n",
    "\n",
    "# Customize layout\n",
    "fig.update_layout(\n",
    "    title=\"Product Price vs. Quantity Sold (by Customer Country)\",\n",
    "    xaxis_title=\"Product Price\",\n",
    "    yaxis_title=\"Quantity Sold\",\n",
    "    legend_title=\"Customer Country\",\n",
    ")\n",
    "\n",
    "fig.show()\n"
   ]
  },
  {
   "cell_type": "markdown",
   "metadata": {},
   "source": [
    "#### Plot a scatter plot visualizing the relationship between product price and quantity sold, color-coded by customer country."
   ]
  },
  {
   "cell_type": "code",
   "execution_count": null,
   "metadata": {},
   "outputs": [],
   "source": [
    "import plotly.graph_objects as go\n",
    "\n",
    "# Create the scatter plot with color-coding by customer country\n",
    "fig = go.Figure(\n",
    "    data=[\n",
    "        go.Scatter(\n",
    "            x=data[\"price\"],\n",
    "            y=data[\"quantity\"],\n",
    "            mode=\"markers\",\n",
    "            marker=dict(color=data[\"customer_country\"], size=10),\n",
    "        )\n",
    "    ]\n",
    ")\n",
    "\n",
    "# Customize layout\n",
    "fig.update_layout(\n",
    "    title=\"Product Price vs. Quantity Sold (by Customer Country)\",\n",
    "    xaxis_title=\"Product Price\",\n",
    "    yaxis_title=\"Quantity Sold\",\n",
    "    legend_title=\"Customer Country\",\n",
    ")\n",
    "\n",
    "fig.show()\n"
   ]
  },
  {
   "cell_type": "markdown",
   "metadata": {},
   "source": [
    "#### Visualize the average order value per country on a world map, colored by the average value."
   ]
  },
  {
   "cell_type": "code",
   "execution_count": null,
   "metadata": {},
   "outputs": [],
   "source": [
    "import plotly.graph_objects as go\n",
    "\n",
    "# Assuming you have latitude and longitude data for each country in separate columns (e.g., \"latitude\", \"longitude\")\n",
    "\n",
    "# Calculate average order value per country\n",
    "avg_order_value = data.groupby(\"customer_country\")[\"price\", \"quantity\"].sum()\n",
    "avg_order_value[\"average_order_value\"] = avg_order_value[\"price\"] * avg_order_value[\"quantity\"]\n",
    "\n",
    "# Create the choropleth map\n",
    "fig = go.Figure(\n",
    "    data=[\n",
    "        go.Choropleth(\n",
    "            locations=avg_order_value.index,  # Country names from the index\n",
    "            z=avg_order_value[\"average_order_value\"],  # Average order values\n",
    "            text=avg_order_value.index,  # Display country names on hover\n",
    "            colorscale=\"Viridis\",  # Color scale for the map\n",
    "            colorbar_title=\"Average Order Value\",  # Title for the colorbar\n",
    "            locationmode=\"ISO-3\",  # Match country names to map geometry using ISO codes (assuming data format)\n",
    "            geojson=\"world_geojson.json\",  # Path to the GeoJSON file defining the world map geometry\n",
    "        )\n",
    "    ]\n",
    ")\n",
    "\n",
    "# Customize layout (optional)\n",
    "fig.update_layout(\n",
    "    title=\"Average Order Value by Country (World Map)\",\n",
    "    geo=dict(showframe=False, projection=\"natural earth\")  # Adjust layout options\n",
    ")\n",
    "\n",
    "fig.show()\n"
   ]
  },
  {
   "cell_type": "markdown",
   "metadata": {},
   "source": [
    "#### Visualize the relationship between product price, quantity sold, and a third numerical variable (e.g., shipping cost) using a 3D scatter plot. Color-code the data points based on the customer country."
   ]
  },
  {
   "cell_type": "code",
   "execution_count": null,
   "metadata": {},
   "outputs": [],
   "source": [
    "fig = go.Figure(\n",
    "    data=[\n",
    "        go.Scatter3d(\n",
    "            x=data[\"price\"],\n",
    "            y=data[\"quantity\"],\n",
    "            z=data[\"shipping_cost\"],  # Assuming you have \"shipping_cost\" data\n",
    "            mode=\"markers\",\n",
    "            marker=dict(color=data[\"customer_country\"], size=5),\n",
    "        )\n",
    "    ]\n",
    ")\n",
    "\n",
    "# Customize layout\n",
    "fig.update_layout(\n",
    "    title=\"Product Price vs. Quantity vs. Shipping Cost (by Customer Country)\",\n",
    "    scene=dict(xaxis_title=\"Price\", yaxis_title=\"Quantity\", zaxis_title=\"Shipping Cost\"),\n",
    "    legend_title=\"Customer Country\",\n",
    ")\n",
    "\n",
    "fig.show()\n"
   ]
  }
 ],
 "metadata": {
  "language_info": {
   "name": "python"
  }
 },
 "nbformat": 4,
 "nbformat_minor": 2
}
