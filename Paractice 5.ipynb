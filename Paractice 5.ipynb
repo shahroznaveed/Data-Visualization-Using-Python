{
 "cells": [
  {
   "cell_type": "markdown",
   "metadata": {},
   "source": [
    "# DV Lab 06 "
   ]
  },
  {
   "cell_type": "markdown",
   "metadata": {},
   "source": [
    "### Perform the following Tasks in Seaborn"
   ]
  },
  {
   "cell_type": "markdown",
   "metadata": {},
   "source": [
    "##### Import the required libraries and data from csv file \"ecom_data\" and perform the following tasks on it."
   ]
  },
  {
   "cell_type": "code",
   "execution_count": null,
   "metadata": {},
   "outputs": [],
   "source": [
    "import seaborn as sns\n",
    "import pandas as pd\n",
    "\n",
    "# Read the CSV data\n",
    "data = pd.read_csv(\"ecom_data.csv\")"
   ]
  },
  {
   "cell_type": "markdown",
   "metadata": {},
   "source": [
    "#### Create a bar chart showing the average order value (price multiplied by quantity) for each customer country, colored by the dominant product category in that country."
   ]
  },
  {
   "cell_type": "code",
   "execution_count": null,
   "metadata": {},
   "outputs": [],
   "source": [
    "# Calculate average order value per country\n",
    "avg_order_value = data.groupby(\"customer_country\")[\"price\", \"quantity\"].sum()\n",
    "avg_order_value[\"average_order_value\"] = avg_order_value[\"price\"] * avg_order_value[\"quantity\"]\n",
    "\n",
    "# Find dominant category per country\n",
    "dominant_category = data.groupby(\"customer_country\")[\"category\"].mode(axis=0).reset_index()[\"category\"].tolist()\n",
    "\n",
    "# Create the bar chart with color-coding\n",
    "sns.barplot(x=avg_order_value.index, y=avg_order_value[\"average_order_value\"], hue=dominant_category)\n",
    "sns.title(\"Average Order Value per Customer Country (Dominant Category)\")\n",
    "sns.xlabel(\"Customer Country\")\n",
    "sns.ylabel(\"Average Order Value\")\n",
    "plt.xticks(rotation=45)  # Rotate x-axis labels for better readability\n",
    "plt.show()\n"
   ]
  },
  {
   "cell_type": "markdown",
   "metadata": {},
   "source": [
    "#### Explore the joint distribution of price and quantity, considering the potential interaction between these variables."
   ]
  },
  {
   "cell_type": "code",
   "execution_count": null,
   "metadata": {},
   "outputs": [],
   "source": [
    "sns.jointplot(x=\"price\", y=\"quantity\", data=data, kind=\"kde\")  # Use kernel density estimation for smoother distribution\n",
    "sns.title(\"Joint Distribution of Product Price and Quantity Sold\")\n",
    "sns.xlabel(\"Product Price\")\n",
    "sns.ylabel(\"Quantity Sold\")\n",
    "plt.show()"
   ]
  },
  {
   "cell_type": "markdown",
   "metadata": {},
   "source": [
    "#### Create a stacked bar chart visualizing the total quantity sold of each product category across different customer countries. Include error bars (standard deviation) to represent the variability in sales."
   ]
  },
  {
   "cell_type": "code",
   "execution_count": null,
   "metadata": {},
   "outputs": [],
   "source": [
    "# Calculate total quantity per category-country combination\n",
    "category_quantity = data.groupby([\"category\", \"customer_country\"])[\"quantity\"].sum()\n",
    "\n",
    "# Calculate standard deviation (assuming a normal distribution of sales)\n",
    "category_quantity_std = data.groupby([\"category\", \"customer_country\"])[\"quantity\"].std()\n",
    "\n",
    "# Unstack the DataFrame for easier plotting\n",
    "category_quantity_unstacked = category_quantity.unstack()\n",
    "\n",
    "# Create the stacked bar chart with error bars\n",
    "sns.barplot(x=category_quantity_unstacked.index, y=category_quantity_unstacked.sum(axis=0), errwidth=category_quantity_std.sum(axis=0))\n",
    "sns.title(\"Total Quantity Sold per Category by Customer Country (with Error Bars)\")\n",
    "sns.xlabel(\"Customer Country\")\n",
    "sns.ylabel(\"Total Quantity Sold\")\n",
    "plt.xticks(rotation=45)  # Rotate x-axis labels for better readability\n",
    "plt.show()\n"
   ]
  },
  {
   "cell_type": "markdown",
   "metadata": {},
   "source": [
    "#### Visualize the distribution of order quantity using a kernel density estimation (KDE) plot. Highlight a specific threshold quantity (e.g., orders with more than 3 items) using a vertical line."
   ]
  },
  {
   "cell_type": "code",
   "execution_count": null,
   "metadata": {},
   "outputs": [],
   "source": [
    "threshold_quantity = 3\n",
    "\n",
    "sns.kdeplot(data[\"quantity\"])\n",
    "sns.axvline(x=threshold_quantity, color=\"red\", linestyle=\"dashed\", label=f\"Threshold ({threshold_quantity} items)\")\n",
    "sns.title(\"Distribution of Order Quantity (Threshold Highlighted)\")\n",
    "sns.xlabel(\"Order Quantity\")\n",
    "plt.legend()\n",
    "plt.show()\n"
   ]
  },
  {
   "cell_type": "markdown",
   "metadata": {},
   "source": [
    "#### Show the distribution of product prices across different categories, highlighting potential outliers."
   ]
  },
  {
   "cell_type": "code",
   "execution_count": null,
   "metadata": {},
   "outputs": [],
   "source": [
    "sns.boxplot(x=\"category\", y=\"price\", showmeans=True, data=data)\n",
    "sns.title(\"Distribution of Product Prices by Category\")\n",
    "sns.xlabel(\"Category\")\n",
    "sns.ylabel(\"Product Price\")\n",
    "plt.xticks(rotation=45)  # Rotate x-axis labels for better readability\n",
    "plt.show()\n"
   ]
  },
  {
   "cell_type": "markdown",
   "metadata": {},
   "source": [
    "### Perform the following Tasks in Plotly"
   ]
  },
  {
   "cell_type": "markdown",
   "metadata": {},
   "source": [
    "#### Plot the total sales per category with an interactive bar chart where users can hover over bars to see details (category and total sales). Additionally, display the cumulative total sales as a line on the same chart."
   ]
  },
  {
   "cell_type": "code",
   "execution_count": null,
   "metadata": {},
   "outputs": [],
   "source": [
    "import plotly.graph_objects as go\n",
    "\n",
    "# Calculate total sales per category\n",
    "category_totals = data.groupby(\"category\")[\"price\"].sum()\n",
    "sorted_totals = category_totals.sort_values(ascending=False)\n",
    "\n",
    "# Cumulative totals\n",
    "cumulative_totals = sorted_totals.cumsum()\n",
    "\n",
    "# Create the bar chart with hovertext and line for cumulative totals\n",
    "fig = go.Figure()\n",
    "fig.add_trace(go.Bar(x=sorted_totals.index, y=sorted_totals.values, text=sorted_totals.values))\n",
    "fig.add_trace(go.Scatter(x=sorted_totals.index, y=cumulative_totals.values, mode=\"lines\", line=dict(color=\"red\"), name=\"Cumulative Total\"))\n",
    "\n",
    "# Customize layout\n",
    "fig.update_layout(\n",
    "    title=\"Total Sales per Category (Cumulative Totals)\",\n",
    "    xaxis_title=\"Category\",\n",
    "    yaxis_title=\"Total Sales\",\n",
    ")\n",
    "\n",
    "# Hover information\n",
    "fig.update_traces(hovertemplate=\"Category: %{x}<br>Total Sales: %{y:.2f}\")\n",
    "\n",
    "fig.show()\n"
   ]
  },
  {
   "cell_type": "markdown",
   "metadata": {},
   "source": [
    "#### Create a box plot visualizing the distribution of product prices across different categories. Add annotations to highlight outliers or interesting patterns in the data."
   ]
  },
  {
   "cell_type": "code",
   "execution_count": null,
   "metadata": {},
   "outputs": [],
   "source": [
    "fig = go.Figure()\n",
    "fig.add_trace(go.Box(x=\"category\", y=\"price\", data=data))\n",
    "\n",
    "# Identify potential outliers (adjust IQR threshold as needed)\n",
    "q1 = data.groupby(\"category\")[\"price\"].quantile(0.25)\n",
    "q3 = data.groupby(\"category\")[\"price\"].quantile(0.75)\n",
    "iqr = q3 - q1\n",
    "outliers = data[(data[\"price\"] < (q1 - 1.5 * iqr)) | (data[\"price\"] > (q3 + 1.5 * iqr))]\n",
    "\n",
    "# Add annotations for outliers\n",
    "for index, row in outliers.iterrows():\n",
    "    fig.add_annotation(\n",
    "        x=row[\"category\"],\n",
    "        y=row[\"price\"],\n",
    "        text=f\"Outlier (${row['price']:.2f})\",\n",
    "        showarrow=True,\n",
    "        arrowhead=7,\n",
    "        arrowcolor=\"red\",\n",
    "    )\n",
    "\n",
    "# Customize layout\n",
    "fig.update_layout(\n",
    "    title=\"Distribution of Product Prices by Category (Outliers Highlighted)\",\n",
    "    xaxis_title=\"Category\",\n",
    "    yaxis_title=\"Product Price\",\n",
    ")\n",
    "\n",
    "fig.show()\n"
   ]
  },
  {
   "cell_type": "markdown",
   "metadata": {},
   "source": [
    "#### Visualize the average order value (price multiplied by quantity) and total quantity sold per category using a grouped bar chart with separate y-axes for each metric."
   ]
  },
  {
   "cell_type": "code",
   "execution_count": null,
   "metadata": {},
   "outputs": [],
   "source": [
    "# Calculate average order value and total quantity per category\n",
    "avg_order_value = data.groupby(\"category\")[\"price\", \"quantity\"].sum()\n",
    "avg_order_value[\"average_order_value\"] = avg_order_value[\"price\"] * avg_order_value[\"quantity\"]\n",
    "\n",
    "# Create the grouped bar chart with dual y-axes\n",
    "fig = go.Figure()\n",
    "fig.add_trace(\n",
    "    go.Bar(\n",
    "        x=avg_order_value.index,\n",
    "        y=avg_order_value[\"average_order_value\"],\n",
    "        name=\"Average Order Value\",\n",
    "    )\n",
    ")\n",
    "fig.add_trace(\n",
    "    go.Bar(x=avg_order_value.index, y=avg_order_value[\"quantity\"], name=\"Total Quantity Sold\")\n",
    ")\n",
    "\n",
    "# Configure y-axes\n",
    "fig.update_layout(\n",
    "    title=\"Average Order Value & Total Quantity Sold by Category\",\n",
    "    xaxis_title=\"Category\",\n",
    "    yaxis_title_left=\"Average Order Value\",\n",
    "    yaxis_title_right=\"Total Quantity Sold\",\n",
    "    yaxis2_range=[0, max(avg_order_value[\"quantity\"]) * 1.1],  # Adjust y2 range based on data\n",
    ")\n",
    "\n",
    "fig.show()\n"
   ]
  },
  {
   "cell_type": "markdown",
   "metadata": {},
   "source": [
    "#### Create an animated scatter plot visualizing the relationship between product price and quantity sold. Implement brushing functionality to allow users to select a range of data points on the plot and see the corresponding distribution in a separate histogram."
   ]
  },
  {
   "cell_type": "code",
   "execution_count": null,
   "metadata": {},
   "outputs": [],
   "source": [
    "import plotly.graph_objects as go\n",
    "from plotly.subplots import make_subplots\n",
    "\n",
    "# Define animation frames\n",
    "frames = []\n",
    "for frame_index in range(len(data)):\n",
    "    frame_data = data.iloc[: frame_index + 1]  # Incrementally add data points for animation\n",
    "    frames.append(go.Scatter(x=frame_data[\"price\"], y=frame_data[\"quantity\"], mode=\"markers\"))\n",
    "\n",
    "# Create base plot and brushing callback\n",
    "fig = make_subplots(rows=1, cols=2)\n",
    "fig.add_trace(frames[0], row=1, col=1)  # Add first frame to the initial plot\n",
    "brush_data = None\n",
    "\n",
    "def update_brush(trace, point_info, state):\n",
    "    global brush_data\n",
    "    selected_pts = [(p[\"x\"], p[\"y\"]) for p in point_info[\"points\"]]\n",
    "    brush_data = data[data[\"price\"].isin([p[0] for p in selected_pts]) & data[\"quantity\"].isin([p[1] for p in selected_pts])]\n",
    "\n",
    "fig.update_layout(\n",
    "    title=\"Product Price vs. Quantity Sold (Animated with Brushing)\",\n",
    "    xaxis_title=\"Product Price\",\n",
    "    yaxis_title=\"Quantity Sold\",\n",
    "    updatemodes=[\n",
    "        dict(type=\"buttons\", buttons=[dict(label=\"Play\", method=\"animate\", start_frame=0, end_frame=-1)], direction=\"horizontal\")\n",
    "    ],\n",
    ")\n",
    "\n",
    "# Brushing functionality using a callback\n",
    "fig.update_xaxes(constrain=\"range\", dragging=True, rangecallback=update_brush)\n",
    "\n",
    "# Create histogram subplot for brushed data\n",
    "fig.add_trace(go.Histogram(x=brush_data[\"quantity\"], name=\"Brushed Data Distribution\"), row=1, col=2)\n",
    "fig.update_yaxes(row=1, col=2, title=\"Frequency\")\n",
    "\n",
    "fig.show()\n"
   ]
  },
  {
   "cell_type": "markdown",
   "metadata": {},
   "source": [
    "#### Create a stacked bar chart showing the total quantity sold for each product category across different customer countries. Include tooltips that display the category name, country name, and total quantity when hovering over a bar segment."
   ]
  },
  {
   "cell_type": "code",
   "execution_count": null,
   "metadata": {},
   "outputs": [],
   "source": [
    "import plotly.graph_objects as go\n",
    "\n",
    "# Calculate total quantity per category-country combination\n",
    "category_quantity = data.groupby([\"category\", \"customer_country\"])[\"quantity\"].sum()\n",
    "\n",
    "# Unstack the DataFrame for easier plotting\n",
    "category_quantity_unstacked = category_quantity.unstack()\n",
    "\n",
    "# Create the stacked bar chart with tooltips\n",
    "fig = go.Figure(\n",
    "    data=[\n",
    "        go.Bar(\n",
    "            x=category_quantity_unstacked.index,\n",
    "            y=col,\n",
    "            name=col,\n",
    "            hovertemplate=\"Category: %{x}<br>Country: %{customdata[0]}<br>Total Quantity: %{y:.0f}\",\n",
    "            customdata=category_quantity_unstacked.columns.tolist(),\n",
    "        )\n",
    "        for col in category_quantity_unstacked.columns\n",
    "    ]\n",
    ")\n",
    "\n",
    "# Customize layout\n",
    "fig.update_layout(\n",
    "    title=\"Total Quantity Sold per Category by Customer Country (Stacked)\",\n",
    "    xaxis_title=\"Customer Country\",\n",
    "    yaxis_title=\"Total Quantity Sold\",\n",
    ")\n",
    "\n",
    "fig.show()\n"
   ]
  }
 ],
 "metadata": {
  "language_info": {
   "name": "python"
  }
 },
 "nbformat": 4,
 "nbformat_minor": 2
}
