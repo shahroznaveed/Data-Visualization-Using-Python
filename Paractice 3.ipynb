{
 "cells": [
  {
   "cell_type": "markdown",
   "metadata": {},
   "source": [
    "# DV Lab 05"
   ]
  },
  {
   "cell_type": "markdown",
   "metadata": {},
   "source": [
    "### Import Libraries and Dataset\n",
    "- Pandas\n",
    "- Seaborn\n",
    "- Matplotlib\n"
   ]
  },
  {
   "cell_type": "code",
   "execution_count": null,
   "metadata": {
    "vscode": {
     "languageId": "plaintext"
    }
   },
   "outputs": [],
   "source": [
    "import seaborn as sns\n",
    "import pandas as pd\n",
    "import matplotlib.pyplot as plt\n",
    "\n",
    "# Read the CSV data into a pandas dataframe\n",
    "df = pd.read_csv(\"car_data.csv\") \n",
    "\n",
    "# Display the dataframe\n",
    "print(df)"
   ]
  },
  {
   "cell_type": "markdown",
   "metadata": {},
   "source": [
    "### Line Chart - Visualizing Trends\n",
    "\n",
    "##### Question: Does the price of the cars tend to increase with mileage?\n",
    "##### Marking Criteria: The chart should display a line for 'price' on the y-axis and 'mileage' on the x-axis. Consider adding a title and labels for the axes."
   ]
  },
  {
   "cell_type": "code",
   "execution_count": null,
   "metadata": {
    "vscode": {
     "languageId": "plaintext"
    }
   },
   "outputs": [],
   "source": [
    "# Create a line chart to see if price increases with mileage\n",
    "sns.lineplot(x='mileage', y='price', data=df)\n",
    "plt.title('Car Price vs Mileage')\n",
    "plt.xlabel('Mileage')\n",
    "plt.ylabel('Price')\n",
    "plt.show()\n"
   ]
  },
  {
   "cell_type": "markdown",
   "metadata": {},
   "source": [
    "### Scatter Plot - Exploring Relationships\n",
    "\n",
    "##### Question: Is there a relationship between the car's model year and its price?\n",
    "##### Marking Criteria: The chart should display points for each car, with 'year' on the x-axis and 'price' on they-axis. Include a title and labels for the axes."
   ]
  },
  {
   "cell_type": "code",
   "execution_count": null,
   "metadata": {
    "vscode": {
     "languageId": "plaintext"
    }
   },
   "outputs": [],
   "source": [
    "# Create a scatter plot to see if price is related to model year\n",
    "sns.scatterplot(x='year', y='price', data=df)\n",
    "plt.title('Car Price by Model Year')\n",
    "plt.xlabel('Model Year')\n",
    "plt.ylabel('Price')\n",
    "plt.show()\n"
   ]
  },
  {
   "cell_type": "markdown",
   "metadata": {},
   "source": [
    "### Distribution Plot (Histogram) - Understanding Spread of Data\n",
    "\n",
    "##### Question: How is the mileage of the cars distributed?\n",
    "##### Marking Criteria: The chart should represent the frequency of each mileage value on the x-axis. You can use a 'histplot' or 'displot' function."
   ]
  },
  {
   "cell_type": "code",
   "execution_count": null,
   "metadata": {
    "vscode": {
     "languageId": "plaintext"
    }
   },
   "outputs": [],
   "source": [
    "# Create a distribution plot to see how mileage is spread\n",
    "sns.displot(df['mileage'])\n",
    "plt.title('Distribution of Car Mileage')\n",
    "plt.xlabel('Mileage')\n",
    "plt.ylabel('Frequency')\n",
    "plt.show()\n"
   ]
  },
  {
   "cell_type": "markdown",
   "metadata": {},
   "source": [
    "### Bar Chart - Comparing Categories\n",
    "\n",
    "##### Question: What are the average prices of different car models?\n",
    "##### Marking Criteria: The chart should have bars representing the average 'price' for each unique 'model' on the x-axis. Consider using a 'barplot' function."
   ]
  },
  {
   "cell_type": "code",
   "execution_count": null,
   "metadata": {
    "vscode": {
     "languageId": "plaintext"
    }
   },
   "outputs": [],
   "source": [
    "# Create a bar chart to compare average prices of each car model\n",
    "sns.barplot(x='model', y='price', data=df)\n",
    "plt.title('Average Price by Car Model')\n",
    "plt.xlabel('Car Model')\n",
    "plt.ylabel('Average Price')\n",
    "plt.show()\n"
   ]
  },
  {
   "cell_type": "markdown",
   "metadata": {},
   "source": [
    "### Joint Plot (Pairplot) - Exploring Relationships Between Multiple Variables\n",
    "\n",
    "##### Question: How do 'year' and 'mileage' relate to each other?\n",
    "##### Marking Criteria: The chart should display a distribution plot for each pair of numeric variables from the dataset (year vs mileage, price vs mileage, etc.). You can use a 'pairplot' function."
   ]
  },
  {
   "cell_type": "code",
   "execution_count": null,
   "metadata": {
    "vscode": {
     "languageId": "plaintext"
    }
   },
   "outputs": [],
   "source": [
    "# Create a joint plot to explore relationships between variables\n",
    "sns.pairplot(df)\n",
    "plt.show()\n"
   ]
  },
  {
   "cell_type": "markdown",
   "metadata": {},
   "source": [
    "### Heatmap - Visualizing Correlation\n",
    "\n",
    "##### Question: How correlated are the numeric variables in the dataset?\n",
    "##### Marking Criteria: The chart should represent a heatmap where the intensity of each square reflects the correlation between two variables. You can use a 'heatmap' function."
   ]
  },
  {
   "cell_type": "code",
   "execution_count": null,
   "metadata": {
    "vscode": {
     "languageId": "plaintext"
    }
   },
   "outputs": [],
   "source": [
    "# Create a heatmap to see how numeric variables are correlated\n",
    "sns.heatmap(df.corr(), annot=True)\n",
    "plt.title('Correlation Heatmap')\n",
    "plt.show()\n"
   ]
  },
  {
   "cell_type": "markdown",
   "metadata": {},
   "source": [
    "### Box Plot - Comparing Distributions Across Categories\n",
    "\n",
    "##### Question: How does the mileage distribution differ between different car models?\n",
    "##### Marking Criteria: The chart should display boxplots for 'mileage' across different models"
   ]
  },
  {
   "cell_type": "code",
   "execution_count": null,
   "metadata": {
    "vscode": {
     "languageId": "plaintext"
    }
   },
   "outputs": [],
   "source": [
    "# Create a box plot to compare mileage distribution across car models\n",
    "sns.boxplot(x='model', y='mileage', showmeans=True, data=df)\n",
    "plt.title('Mileage Distribution by Car Model')\n",
    "plt.xlabel('Car Model')\n",
    "plt.ylabel('Mileage')\n",
    "plt.show()\n"
   ]
  },
  {
   "cell_type": "markdown",
   "metadata": {},
   "source": [
    "### Violin Plot - Combining Distribution and Box Plot\n",
    "\n",
    "##### Question: Similar to the box plot, how does the mileage distribution differ between car models, but with a clearer view of the data spread within each category?\n",
    "##### Marking Criteria: The chart should display violin plots for 'mileage' across different 'model' categories. Violin plots combine features of box plots and density plots, providing a more detailed view of the distribution."
   ]
  },
  {
   "cell_type": "code",
   "execution_count": null,
   "metadata": {
    "vscode": {
     "languageId": "plaintext"
    }
   },
   "outputs": [],
   "source": [
    "# Create a violin plot for mileage distribution across car models\n",
    "sns.violinplot(x='model', y='mileage', showmeans=True, data=df)\n",
    "plt.title('Mileage Distribution by Car Model')\n",
    "plt.xlabel('Car Model')\n",
    "plt.ylabel('Mileage')\n",
    "plt.show()\n"
   ]
  },
  {
   "cell_type": "markdown",
   "metadata": {},
   "source": [
    "### Categorical Plot (Countplot) - Visualizing Frequency of Categorical Variables\n",
    "\n",
    "##### Question: How many cars from each model year are present in the dataset?\n",
    "##### Marking Criteria: The chart should display bars representing the count of cars for each unique value in the 'year' variable. You can use a 'countplot' function."
   ]
  },
  {
   "cell_type": "code",
   "execution_count": null,
   "metadata": {
    "vscode": {
     "languageId": "plaintext"
    }
   },
   "outputs": [],
   "source": [
    "# Create a countplot to see the number of cars per model year\n",
    "sns.countplot(x='year', data=df)\n",
    "plt.title('Number of Cars by Model Year')\n",
    "plt.xlabel('Model Year')\n",
    "plt.ylabel('Count')\n",
    "plt.show()\n"
   ]
  }
 ],
 "metadata": {
  "language_info": {
   "name": "python"
  }
 },
 "nbformat": 4,
 "nbformat_minor": 2
}
